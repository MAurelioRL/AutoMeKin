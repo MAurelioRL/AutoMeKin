{
  "nbformat": 4,
  "nbformat_minor": 0,
  "metadata": {
    "colab": {
      "provenance": []
    },
    "kernelspec": {
      "name": "python3",
      "display_name": "Python 3"
    },
    "language_info": {
      "name": "python"
    }
  },
  "cells": [
    {
      "cell_type": "markdown",
      "source": [
        "## **AutoMeKin: Automated reaction Mechanisms and Kinetics**"
      ],
      "metadata": {
        "id": "vXtSvTouM1dG"
      }
    },
    {
      "cell_type": "markdown",
      "source": [
        "**Installing third-party packages**"
      ],
      "metadata": {
        "id": "9LmhQ0GeMi9z"
      }
    },
    {
      "cell_type": "code",
      "source": [
        "%%capture\n",
        "!apt update\n",
        "!apt install bc environment-modules gawk gcc gfortran parallel sqlite3 zenity gnuplot\n",
        "!pip install ase networkx 'bokeh==2.3.3' 'jsmol_bokeh_extension==0.2.1'\n",
        "!git clone https://github.com/dgarayr/amk_tools.git\n",
        "%cd /content/amk_tools\n",
        "!pip install -e ."
      ],
      "metadata": {
        "id": "cQDTrDFQGe3p"
      },
      "execution_count": null,
      "outputs": []
    },
    {
      "cell_type": "markdown",
      "source": [
        "**Installing AutoMeKin**"
      ],
      "metadata": {
        "id": "qTg3nK8uNBMr"
      }
    },
    {
      "cell_type": "code",
      "execution_count": null,
      "metadata": {
        "id": "P6BRAe0KGS70"
      },
      "outputs": [],
      "source": [
        "%%capture\n",
        "%cd /content/\n",
        "!git clone https://github.com/emartineznunez/AutoMeKin.git\n",
        "%cd /content/AutoMeKin\n",
        "! autoreconf -i\n",
        "!./configure --prefix=/opt/AutoMeKin\n",
        "!make\n",
        "!make install\n",
        "%env PATH=\".:/content/amk_tools/scripts:/opt/AutoMeKin/bin:/opt/AutoMeKin/bin/HLscripts:/opt/AutoMeKin/bin/MOPAC_DEV:/opt/bin:/usr/local/nvidia/bin:/usr/local/cuda/bin:/usr/local/sbin:/usr/local/bin:/usr/sbin:/usr/bin:/sbin:/bin:/tools/node/bin:/tools/google-cloud-sdk/bin\"\n",
        "%env LIBRARY_PATH=\"/opt/AutoMeKin/lib:/opt/AutoMeKin/bin/MOPAC_DEV:/usr/local/cuda/lib64/stubs\"\n",
        "%env AMK=/opt/AutoMeKin\n",
        "%cd /content\n",
        "!curl -LJO https://github.com/emartineznunez/AutoMeKin/raw/main/examples/FA.dat\n",
        "!curl -LJO https://github.com/emartineznunez/AutoMeKin/raw/main/examples/FA.xyz"
      ]
    },
    {
      "cell_type": "markdown",
      "source": [
        "**Testing out formic acid example**"
      ],
      "metadata": {
        "id": "FoE0ellxNoC-"
      }
    },
    {
      "cell_type": "code",
      "source": [
        "%%capture\n",
        "!llcalcs.sh FA.dat 5 3 5"
      ],
      "metadata": {
        "id": "cZ2ysrp0KrSL"
      },
      "execution_count": null,
      "outputs": []
    },
    {
      "cell_type": "markdown",
      "source": [
        "*Transition-state structure found in these 3 iterations*"
      ],
      "metadata": {
        "id": "1U8s9Tiy1X51"
      }
    },
    {
      "cell_type": "code",
      "source": [
        "!tsll_view.sh"
      ],
      "metadata": {
        "id": "Cq2FHWHVZfrI"
      },
      "execution_count": null,
      "outputs": []
    },
    {
      "cell_type": "markdown",
      "source": [
        "*Reaction network, energies of structures and kinetics results*"
      ],
      "metadata": {
        "id": "mpX1rSQN1qUz"
      }
    },
    {
      "cell_type": "code",
      "source": [
        "%cd /content/FINAL_LL_FA/\n",
        "!for each in RXNet.cg MINinfo TSinfo; do echo \"\"; cat $each; done\n",
        "!echo \"\"\n",
        "!awk '$1==\"Population\"{p=1};{if(p!=1) print $0}' kineticsE150"
      ],
      "metadata": {
        "id": "eCdAHDeccz3W"
      },
      "execution_count": null,
      "outputs": []
    },
    {
      "cell_type": "markdown",
      "source": [
        "*Generate network.html for visualization*"
      ],
      "metadata": {
        "id": "fX1nuW9k13DS"
      }
    },
    {
      "cell_type": "code",
      "source": [
        "%cd /content/\n",
        "!amk_gen_view.py FINAL_LL_FA RXNet.cg --b --paths MIN1"
      ],
      "metadata": {
        "id": "pTH02rKqmGSm"
      },
      "execution_count": null,
      "outputs": []
    },
    {
      "cell_type": "markdown",
      "source": [
        "The generated file: /content/network.html can be downloaded and opened with Chrome or Firefox"
      ],
      "metadata": {
        "id": "y_7QUlfz4cHC"
      }
    }
  ]
}