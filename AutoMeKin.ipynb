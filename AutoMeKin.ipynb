{
  "nbformat": 4,
  "nbformat_minor": 0,
  "metadata": {
    "colab": {
      "provenance": []
    },
    "kernelspec": {
      "name": "python3",
      "display_name": "Python 3"
    },
    "language_info": {
      "name": "python"
    }
  },
  "cells": [
    {
      "cell_type": "markdown",
      "source": [
        "## **AutoMeKin: Automated reaction Mechanisms and Kinetics**"
      ],
      "metadata": {
        "id": "vXtSvTouM1dG"
      }
    },
    {
      "cell_type": "markdown",
      "source": [
        "**Installing third-party packages**"
      ],
      "metadata": {
        "id": "9LmhQ0GeMi9z"
      }
    },
    {
      "cell_type": "code",
      "source": [
        "%%capture\n",
        "!apt update\n",
        "!apt install bc environment-modules gawk gcc gfortran parallel sqlite3 zenity gnuplot\n",
        "!pip install ase networkx"
      ],
      "metadata": {
        "id": "cQDTrDFQGe3p"
      },
      "execution_count": null,
      "outputs": []
    },
    {
      "cell_type": "markdown",
      "source": [
        "**Installing AutoMeKin**"
      ],
      "metadata": {
        "id": "qTg3nK8uNBMr"
      }
    },
    {
      "cell_type": "code",
      "execution_count": null,
      "metadata": {
        "id": "P6BRAe0KGS70"
      },
      "outputs": [],
      "source": [
        "%%capture\n",
        "!git clone https://github.com/emartineznunez/AutoMeKin.git\n",
        "%cd AutoMeKin"
      ]
    },
    {
      "cell_type": "code",
      "source": [
        "%%capture\n",
        "! autoreconf -i\n",
        "!./configure --prefix=/opt/AutoMeKin\n",
        "!make\n",
        "!make install"
      ],
      "metadata": {
        "id": "CkH84HbuGbWw"
      },
      "execution_count": null,
      "outputs": []
    },
    {
      "cell_type": "code",
      "source": [
        "%%capture\n",
        "%env PATH=\".:/opt/AutoMeKin/bin:/opt/AutoMeKin/bin/HLscripts:/opt/AutoMeKin/bin/MOPAC_DEV:/opt/bin:/usr/local/nvidia/bin:/usr/local/cuda/bin:/usr/local/sbin:/usr/local/bin:/usr/sbin:/usr/bin:/sbin:/bin:/tools/node/bin:/tools/google-cloud-sdk/bin\"\n",
        "%env LIBRARY_PATH=\"/opt/AutoMeKin/lib:/opt/AutoMeKin/bin/MOPAC_DEV:/usr/local/cuda/lib64/stubs\"\n",
        "%env AMK=/opt/AutoMeKin"
      ],
      "metadata": {
        "id": "ceh6eA2zIGXe"
      },
      "execution_count": null,
      "outputs": []
    },
    {
      "cell_type": "markdown",
      "source": [
        "**Testing out formic acid example**"
      ],
      "metadata": {
        "id": "FoE0ellxNoC-"
      }
    },
    {
      "cell_type": "code",
      "source": [
        "%%capture\n",
        "%cd /content\n",
        "!curl -LJO https://github.com/emartineznunez/AutoMeKin/raw/main/examples/FA.dat\n",
        "!curl -LJO https://github.com/emartineznunez/AutoMeKin/raw/main/examples/FA.xyz"
      ],
      "metadata": {
        "id": "txU4t67qKEAi"
      },
      "execution_count": null,
      "outputs": []
    },
    {
      "cell_type": "code",
      "source": [
        "%%capture\n",
        "%env inter=0\n",
        "!for i in $(seq 1 5); do amk.sh FA.dat ; done\n",
        "!irc.sh\n",
        "!min.sh\n",
        "!rxn_network.sh\n",
        "!kmc.sh\n",
        "!track_view.sh > final.log\n",
        "!final.sh\n",
        "!gnuplot <Energy_profile.gnu> Energy_profile.pdf\n",
        "!gnuplot <populationE150.gnu> PopulationE150.pdf"
      ],
      "metadata": {
        "id": "cZ2ysrp0KrSL"
      },
      "execution_count": null,
      "outputs": []
    },
    {
      "cell_type": "code",
      "source": [
        "!tsll_view.sh"
      ],
      "metadata": {
        "id": "Cq2FHWHVZfrI"
      },
      "execution_count": null,
      "outputs": []
    },
    {
      "cell_type": "code",
      "source": [
        "%cd FINAL_LL_FA/"
      ],
      "metadata": {
        "id": "F2s7bbUCcw7_"
      },
      "execution_count": null,
      "outputs": []
    },
    {
      "cell_type": "code",
      "source": [
        "!cat RXNet"
      ],
      "metadata": {
        "id": "eCdAHDeccz3W"
      },
      "execution_count": null,
      "outputs": []
    },
    {
      "cell_type": "code",
      "source": [
        "!awk '$1==\"Population\"{p=1};{if(p!=1) print $0}' kineticsE150"
      ],
      "metadata": {
        "id": "rbwNnkzldC7G"
      },
      "execution_count": null,
      "outputs": []
    }
  ]
}